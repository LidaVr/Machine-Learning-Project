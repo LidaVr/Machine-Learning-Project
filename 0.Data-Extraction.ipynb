#Connect to GoogleDrive to gain access to the data available there
from google.colab import drive
drive.mount('/content/drive')

#Installing the necessary libraries
import zipfile
import os
