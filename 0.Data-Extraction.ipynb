#Connect to GoogleDrive to gain access to the data available there
from google.colab import drive
drive.mount('/content/drive')


#Installing the necessary libraries
import zipfile
import os

#Set-up the directory to the assignment folder
os.chdir('/content/drive/My Drive/Colab Notebooks')

#Declare the folder which should be extracted
zip_file_path = '/content/drive/My Drive/Colab Notebooks/Original_Images.zip'

#Extract its' contents
with zipfile.ZipFile(zip_file_path, 'r') as zip_ref:
    zip_ref.extractall()

#Verify the folder's contents
extracted_folder_path = '/content/drive/My Drive/Colab Notebooks/Extracted_Images'
class_folders = os.listdir(extracted_folder_path)
print(class_folders)

